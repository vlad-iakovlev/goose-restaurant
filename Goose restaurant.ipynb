{
 "cells": [
  {
   "cell_type": "markdown",
   "metadata": {},
   "source": [
    "# Restaurant Visitor Forecasting by GooseLearning"
   ]
  },
  {
   "cell_type": "code",
   "execution_count": 1,
   "metadata": {},
   "outputs": [],
   "source": [
    "import pandas as pd"
   ]
  },
  {
   "cell_type": "code",
   "execution_count": 2,
   "metadata": {},
   "outputs": [],
   "source": [
    "data = {\n",
    "    'air_store': pd.read_csv('dataset/air_store_info.csv'),\n",
    "    'hpg_store': pd.read_csv('dataset/hpg_store_info.csv'),\n",
    "\n",
    "    'air_reserve': pd.read_csv('dataset/air_reserve.csv'),\n",
    "    'hpg_reserve': pd.read_csv('dataset/hpg_reserve.csv'),\n",
    "\n",
    "    'air_hpd': pd.read_csv('dataset/store_id_relation.csv'),\n",
    "    \n",
    "    'holidays': pd.read_csv('dataset/date_info.csv').rename(columns={\n",
    "        'calendar_date': 'visit_date',\n",
    "        'holiday_flg'  : 'holiday',\n",
    "    })[['visit_date', 'holiday']],\n",
    "\n",
    "    'train': pd.read_csv('dataset/air_visit_data.csv'),\n",
    "    'test':  pd.read_csv('dataset/sample_submission.csv'),\n",
    "}"
   ]
  },
  {
   "cell_type": "markdown",
   "metadata": {},
   "source": [
    "### Обработка данных"
   ]
  },
  {
   "cell_type": "markdown",
   "metadata": {},
   "source": [
    "Приводим `test` к формату `train`"
   ]
  },
  {
   "cell_type": "code",
   "execution_count": 3,
   "metadata": {
    "scrolled": true
   },
   "outputs": [],
   "source": [
    "data['test']['air_store_id'] = [id[:20] for id in data['test']['id']]\n",
    "data['test']['visit_date']   = [id[21:] for id in data['test']['id']]"
   ]
  },
  {
   "cell_type": "markdown",
   "metadata": {},
   "source": [
    "Дополнительные колонки даты в `train` и `test`"
   ]
  },
  {
   "cell_type": "code",
   "execution_count": 4,
   "metadata": {},
   "outputs": [],
   "source": [
    "for ds in ['train', 'test']:\n",
    "    data[ds]['visit_date']  = pd.to_datetime(data[ds]['visit_date'])\n",
    "    data[ds]['visit_day']   = data[ds]['visit_date'].dt.day\n",
    "    data[ds]['visit_month'] = data[ds]['visit_date'].dt.month\n",
    "    data[ds]['visit_year']  = data[ds]['visit_date'].dt.year\n",
    "    data[ds]['visit_dow']   = data[ds]['visit_date'].dt.dayofweek\n",
    "    data[ds]['visit_date']  = data[ds]['visit_date'].dt.strftime('%Y-%m-%d')\n",
    "    \n",
    "    data[ds] = pd.merge(data[ds], data['holidays'], how='left', on=['visit_date'])"
   ]
  },
  {
   "cell_type": "code",
   "execution_count": 5,
   "metadata": {},
   "outputs": [
    {
     "data": {
      "text/html": [
       "<div>\n",
       "<style>\n",
       "    .dataframe thead tr:only-child th {\n",
       "        text-align: right;\n",
       "    }\n",
       "\n",
       "    .dataframe thead th {\n",
       "        text-align: left;\n",
       "    }\n",
       "\n",
       "    .dataframe tbody tr th {\n",
       "        vertical-align: top;\n",
       "    }\n",
       "</style>\n",
       "<table border=\"1\" class=\"dataframe\">\n",
       "  <thead>\n",
       "    <tr style=\"text-align: right;\">\n",
       "      <th></th>\n",
       "      <th>id</th>\n",
       "      <th>visitors</th>\n",
       "      <th>air_store_id</th>\n",
       "      <th>visit_date</th>\n",
       "      <th>visit_day</th>\n",
       "      <th>visit_month</th>\n",
       "      <th>visit_year</th>\n",
       "      <th>visit_dow</th>\n",
       "      <th>holiday</th>\n",
       "    </tr>\n",
       "  </thead>\n",
       "  <tbody>\n",
       "    <tr>\n",
       "      <th>0</th>\n",
       "      <td>air_00a91d42b08b08d9_2017-04-23</td>\n",
       "      <td>0</td>\n",
       "      <td>air_00a91d42b08b08d9</td>\n",
       "      <td>2017-04-23</td>\n",
       "      <td>23</td>\n",
       "      <td>4</td>\n",
       "      <td>2017</td>\n",
       "      <td>6</td>\n",
       "      <td>0</td>\n",
       "    </tr>\n",
       "    <tr>\n",
       "      <th>1</th>\n",
       "      <td>air_00a91d42b08b08d9_2017-04-24</td>\n",
       "      <td>0</td>\n",
       "      <td>air_00a91d42b08b08d9</td>\n",
       "      <td>2017-04-24</td>\n",
       "      <td>24</td>\n",
       "      <td>4</td>\n",
       "      <td>2017</td>\n",
       "      <td>0</td>\n",
       "      <td>0</td>\n",
       "    </tr>\n",
       "    <tr>\n",
       "      <th>2</th>\n",
       "      <td>air_00a91d42b08b08d9_2017-04-25</td>\n",
       "      <td>0</td>\n",
       "      <td>air_00a91d42b08b08d9</td>\n",
       "      <td>2017-04-25</td>\n",
       "      <td>25</td>\n",
       "      <td>4</td>\n",
       "      <td>2017</td>\n",
       "      <td>1</td>\n",
       "      <td>0</td>\n",
       "    </tr>\n",
       "    <tr>\n",
       "      <th>3</th>\n",
       "      <td>air_00a91d42b08b08d9_2017-04-26</td>\n",
       "      <td>0</td>\n",
       "      <td>air_00a91d42b08b08d9</td>\n",
       "      <td>2017-04-26</td>\n",
       "      <td>26</td>\n",
       "      <td>4</td>\n",
       "      <td>2017</td>\n",
       "      <td>2</td>\n",
       "      <td>0</td>\n",
       "    </tr>\n",
       "    <tr>\n",
       "      <th>4</th>\n",
       "      <td>air_00a91d42b08b08d9_2017-04-27</td>\n",
       "      <td>0</td>\n",
       "      <td>air_00a91d42b08b08d9</td>\n",
       "      <td>2017-04-27</td>\n",
       "      <td>27</td>\n",
       "      <td>4</td>\n",
       "      <td>2017</td>\n",
       "      <td>3</td>\n",
       "      <td>0</td>\n",
       "    </tr>\n",
       "  </tbody>\n",
       "</table>\n",
       "</div>"
      ],
      "text/plain": [
       "                                id  visitors          air_store_id  \\\n",
       "0  air_00a91d42b08b08d9_2017-04-23         0  air_00a91d42b08b08d9   \n",
       "1  air_00a91d42b08b08d9_2017-04-24         0  air_00a91d42b08b08d9   \n",
       "2  air_00a91d42b08b08d9_2017-04-25         0  air_00a91d42b08b08d9   \n",
       "3  air_00a91d42b08b08d9_2017-04-26         0  air_00a91d42b08b08d9   \n",
       "4  air_00a91d42b08b08d9_2017-04-27         0  air_00a91d42b08b08d9   \n",
       "\n",
       "   visit_date  visit_day  visit_month  visit_year  visit_dow  holiday  \n",
       "0  2017-04-23         23            4        2017          6        0  \n",
       "1  2017-04-24         24            4        2017          0        0  \n",
       "2  2017-04-25         25            4        2017          1        0  \n",
       "3  2017-04-26         26            4        2017          2        0  \n",
       "4  2017-04-27         27            4        2017          3        0  "
      ]
     },
     "execution_count": 5,
     "metadata": {},
     "output_type": "execute_result"
    }
   ],
   "source": [
    "data['test'].head()"
   ]
  },
  {
   "cell_type": "markdown",
   "metadata": {},
   "source": [
    "Получаем набор доступных ID"
   ]
  },
  {
   "cell_type": "code",
   "execution_count": 6,
   "metadata": {},
   "outputs": [],
   "source": [
    "data['air_store_ids'] = pd.DataFrame({\n",
    "    'air_store_id': data['test']['air_store_id'].unique()\n",
    "})"
   ]
  },
  {
   "cell_type": "code",
   "execution_count": 7,
   "metadata": {},
   "outputs": [
    {
     "name": "stdout",
     "output_type": "stream",
     "text": [
      "air_store_ids 821\n"
     ]
    }
   ],
   "source": [
    "print('air_store_ids', len(data['air_store_ids']))"
   ]
  },
  {
   "cell_type": "markdown",
   "metadata": {},
   "source": [
    " Расширяем `air_reserve` данными из `hpg_reserve`"
   ]
  },
  {
   "cell_type": "code",
   "execution_count": 8,
   "metadata": {},
   "outputs": [],
   "source": [
    "data['hpg_reserve_air'] = pd.merge(data['hpg_reserve'], data['air_hpd'], how='inner', on=['hpg_store_id'])\n",
    "data['air_reserve_ext'] = pd.concat([data['air_reserve'], data['hpg_reserve_air'].drop('hpg_store_id', axis=1)])"
   ]
  },
  {
   "cell_type": "code",
   "execution_count": 9,
   "metadata": {},
   "outputs": [
    {
     "name": "stdout",
     "output_type": "stream",
     "text": [
      "air_reserve     92378\n",
      "air_reserve_ext 120561\n"
     ]
    }
   ],
   "source": [
    "print('air_reserve    ', len(data['air_reserve']))\n",
    "print('air_reserve_ext', len(data['air_reserve_ext']))"
   ]
  },
  {
   "cell_type": "markdown",
   "metadata": {},
   "source": [
    "Дополнительные колонки даты в `air_reserve_ext`"
   ]
  },
  {
   "cell_type": "code",
   "execution_count": 10,
   "metadata": {},
   "outputs": [],
   "source": [
    "for dt_type in ['visit', 'reserve']:\n",
    "    data['air_reserve_ext'][dt_type + '_datetime'] = pd.to_datetime(data['air_reserve_ext'][dt_type + '_datetime'])\n",
    "\n",
    "data['air_reserve_ext']['visit_date'] = data['air_reserve_ext']['visit_datetime'].dt.strftime('%Y-%m-%d')\n",
    "    \n",
    "data['air_reserve_ext']['reserve_diff'] = data['air_reserve_ext']['visit_datetime'] - data['air_reserve_ext']['reserve_datetime']\n",
    "data['air_reserve_ext']['reserve_diff'] = data['air_reserve_ext'].apply(lambda row: row['reserve_diff'].days, axis=1)"
   ]
  },
  {
   "cell_type": "code",
   "execution_count": 11,
   "metadata": {},
   "outputs": [
    {
     "data": {
      "text/html": [
       "<div>\n",
       "<style>\n",
       "    .dataframe thead tr:only-child th {\n",
       "        text-align: right;\n",
       "    }\n",
       "\n",
       "    .dataframe thead th {\n",
       "        text-align: left;\n",
       "    }\n",
       "\n",
       "    .dataframe tbody tr th {\n",
       "        vertical-align: top;\n",
       "    }\n",
       "</style>\n",
       "<table border=\"1\" class=\"dataframe\">\n",
       "  <thead>\n",
       "    <tr style=\"text-align: right;\">\n",
       "      <th></th>\n",
       "      <th>air_store_id</th>\n",
       "      <th>reserve_datetime</th>\n",
       "      <th>reserve_visitors</th>\n",
       "      <th>visit_datetime</th>\n",
       "      <th>visit_date</th>\n",
       "      <th>reserve_diff</th>\n",
       "    </tr>\n",
       "  </thead>\n",
       "  <tbody>\n",
       "    <tr>\n",
       "      <th>0</th>\n",
       "      <td>air_877f79706adbfb06</td>\n",
       "      <td>2016-01-01 16:00:00</td>\n",
       "      <td>1</td>\n",
       "      <td>2016-01-01 19:00:00</td>\n",
       "      <td>2016-01-01</td>\n",
       "      <td>0</td>\n",
       "    </tr>\n",
       "    <tr>\n",
       "      <th>1</th>\n",
       "      <td>air_db4b38ebe7a7ceff</td>\n",
       "      <td>2016-01-01 19:00:00</td>\n",
       "      <td>3</td>\n",
       "      <td>2016-01-01 19:00:00</td>\n",
       "      <td>2016-01-01</td>\n",
       "      <td>0</td>\n",
       "    </tr>\n",
       "    <tr>\n",
       "      <th>2</th>\n",
       "      <td>air_db4b38ebe7a7ceff</td>\n",
       "      <td>2016-01-01 19:00:00</td>\n",
       "      <td>6</td>\n",
       "      <td>2016-01-01 19:00:00</td>\n",
       "      <td>2016-01-01</td>\n",
       "      <td>0</td>\n",
       "    </tr>\n",
       "    <tr>\n",
       "      <th>3</th>\n",
       "      <td>air_877f79706adbfb06</td>\n",
       "      <td>2016-01-01 16:00:00</td>\n",
       "      <td>2</td>\n",
       "      <td>2016-01-01 20:00:00</td>\n",
       "      <td>2016-01-01</td>\n",
       "      <td>0</td>\n",
       "    </tr>\n",
       "    <tr>\n",
       "      <th>4</th>\n",
       "      <td>air_db80363d35f10926</td>\n",
       "      <td>2016-01-01 01:00:00</td>\n",
       "      <td>5</td>\n",
       "      <td>2016-01-01 20:00:00</td>\n",
       "      <td>2016-01-01</td>\n",
       "      <td>0</td>\n",
       "    </tr>\n",
       "  </tbody>\n",
       "</table>\n",
       "</div>"
      ],
      "text/plain": [
       "           air_store_id    reserve_datetime  reserve_visitors  \\\n",
       "0  air_877f79706adbfb06 2016-01-01 16:00:00                 1   \n",
       "1  air_db4b38ebe7a7ceff 2016-01-01 19:00:00                 3   \n",
       "2  air_db4b38ebe7a7ceff 2016-01-01 19:00:00                 6   \n",
       "3  air_877f79706adbfb06 2016-01-01 16:00:00                 2   \n",
       "4  air_db80363d35f10926 2016-01-01 01:00:00                 5   \n",
       "\n",
       "       visit_datetime  visit_date  reserve_diff  \n",
       "0 2016-01-01 19:00:00  2016-01-01             0  \n",
       "1 2016-01-01 19:00:00  2016-01-01             0  \n",
       "2 2016-01-01 19:00:00  2016-01-01             0  \n",
       "3 2016-01-01 20:00:00  2016-01-01             0  \n",
       "4 2016-01-01 20:00:00  2016-01-01             0  "
      ]
     },
     "execution_count": 11,
     "metadata": {},
     "output_type": "execute_result"
    }
   ],
   "source": [
    "data['air_reserve_ext'].head()"
   ]
  },
  {
   "cell_type": "markdown",
   "metadata": {},
   "source": [
    "Объединяем записи в `air_reserve_ext`"
   ]
  },
  {
   "cell_type": "code",
   "execution_count": 12,
   "metadata": {},
   "outputs": [],
   "source": [
    "tmp = None\n",
    "for op_type in ['sum', 'mean', 'median', 'min', 'max', 'count']:\n",
    "    tmp2 = getattr(\n",
    "        data['air_reserve_ext']\n",
    "            .groupby(['air_store_id', 'visit_date'], as_index=False)\n",
    "            [['reserve_diff', 'reserve_visitors']],\n",
    "        op_type,\n",
    "    )()\n",
    "    \n",
    "    tmp2 = tmp2.rename(columns={\n",
    "        'reserve_diff':     'reserve_diff_'     + op_type,\n",
    "        'reserve_visitors': 'reserve_visitors_' + op_type,\n",
    "    })\n",
    "    \n",
    "    if tmp is None:\n",
    "        tmp = tmp2\n",
    "    else:\n",
    "        tmp = pd.merge(tmp, tmp2, how='inner', on=['air_store_id', 'visit_date'])\n",
    "    \n",
    "data['air_reserve_ext'] = tmp"
   ]
  },
  {
   "cell_type": "code",
   "execution_count": 13,
   "metadata": {
    "scrolled": true
   },
   "outputs": [
    {
     "name": "stdout",
     "output_type": "stream",
     "text": [
      "air_reserve_ext 42193\n"
     ]
    },
    {
     "data": {
      "text/html": [
       "<div>\n",
       "<style>\n",
       "    .dataframe thead tr:only-child th {\n",
       "        text-align: right;\n",
       "    }\n",
       "\n",
       "    .dataframe thead th {\n",
       "        text-align: left;\n",
       "    }\n",
       "\n",
       "    .dataframe tbody tr th {\n",
       "        vertical-align: top;\n",
       "    }\n",
       "</style>\n",
       "<table border=\"1\" class=\"dataframe\">\n",
       "  <thead>\n",
       "    <tr style=\"text-align: right;\">\n",
       "      <th></th>\n",
       "      <th>air_store_id</th>\n",
       "      <th>visit_date</th>\n",
       "      <th>reserve_diff_sum</th>\n",
       "      <th>reserve_visitors_sum</th>\n",
       "      <th>reserve_diff_mean</th>\n",
       "      <th>reserve_visitors_mean</th>\n",
       "      <th>reserve_diff_median</th>\n",
       "      <th>reserve_visitors_median</th>\n",
       "      <th>reserve_diff_min</th>\n",
       "      <th>reserve_visitors_min</th>\n",
       "      <th>reserve_diff_max</th>\n",
       "      <th>reserve_visitors_max</th>\n",
       "      <th>reserve_diff_count</th>\n",
       "      <th>reserve_visitors_count</th>\n",
       "    </tr>\n",
       "  </thead>\n",
       "  <tbody>\n",
       "    <tr>\n",
       "      <th>0</th>\n",
       "      <td>air_00a91d42b08b08d9</td>\n",
       "      <td>2016-01-14</td>\n",
       "      <td>3</td>\n",
       "      <td>2</td>\n",
       "      <td>3.0</td>\n",
       "      <td>2.0</td>\n",
       "      <td>3.0</td>\n",
       "      <td>2.0</td>\n",
       "      <td>3</td>\n",
       "      <td>2</td>\n",
       "      <td>3</td>\n",
       "      <td>2</td>\n",
       "      <td>1</td>\n",
       "      <td>1</td>\n",
       "    </tr>\n",
       "    <tr>\n",
       "      <th>1</th>\n",
       "      <td>air_00a91d42b08b08d9</td>\n",
       "      <td>2016-01-15</td>\n",
       "      <td>5</td>\n",
       "      <td>4</td>\n",
       "      <td>5.0</td>\n",
       "      <td>4.0</td>\n",
       "      <td>5.0</td>\n",
       "      <td>4.0</td>\n",
       "      <td>5</td>\n",
       "      <td>4</td>\n",
       "      <td>5</td>\n",
       "      <td>4</td>\n",
       "      <td>1</td>\n",
       "      <td>1</td>\n",
       "    </tr>\n",
       "    <tr>\n",
       "      <th>2</th>\n",
       "      <td>air_00a91d42b08b08d9</td>\n",
       "      <td>2016-01-16</td>\n",
       "      <td>2</td>\n",
       "      <td>2</td>\n",
       "      <td>2.0</td>\n",
       "      <td>2.0</td>\n",
       "      <td>2.0</td>\n",
       "      <td>2.0</td>\n",
       "      <td>2</td>\n",
       "      <td>2</td>\n",
       "      <td>2</td>\n",
       "      <td>2</td>\n",
       "      <td>1</td>\n",
       "      <td>1</td>\n",
       "    </tr>\n",
       "    <tr>\n",
       "      <th>3</th>\n",
       "      <td>air_00a91d42b08b08d9</td>\n",
       "      <td>2016-01-22</td>\n",
       "      <td>3</td>\n",
       "      <td>2</td>\n",
       "      <td>3.0</td>\n",
       "      <td>2.0</td>\n",
       "      <td>3.0</td>\n",
       "      <td>2.0</td>\n",
       "      <td>3</td>\n",
       "      <td>2</td>\n",
       "      <td>3</td>\n",
       "      <td>2</td>\n",
       "      <td>1</td>\n",
       "      <td>1</td>\n",
       "    </tr>\n",
       "    <tr>\n",
       "      <th>4</th>\n",
       "      <td>air_00a91d42b08b08d9</td>\n",
       "      <td>2016-01-29</td>\n",
       "      <td>6</td>\n",
       "      <td>5</td>\n",
       "      <td>6.0</td>\n",
       "      <td>5.0</td>\n",
       "      <td>6.0</td>\n",
       "      <td>5.0</td>\n",
       "      <td>6</td>\n",
       "      <td>5</td>\n",
       "      <td>6</td>\n",
       "      <td>5</td>\n",
       "      <td>1</td>\n",
       "      <td>1</td>\n",
       "    </tr>\n",
       "  </tbody>\n",
       "</table>\n",
       "</div>"
      ],
      "text/plain": [
       "           air_store_id  visit_date  reserve_diff_sum  reserve_visitors_sum  \\\n",
       "0  air_00a91d42b08b08d9  2016-01-14                 3                     2   \n",
       "1  air_00a91d42b08b08d9  2016-01-15                 5                     4   \n",
       "2  air_00a91d42b08b08d9  2016-01-16                 2                     2   \n",
       "3  air_00a91d42b08b08d9  2016-01-22                 3                     2   \n",
       "4  air_00a91d42b08b08d9  2016-01-29                 6                     5   \n",
       "\n",
       "   reserve_diff_mean  reserve_visitors_mean  reserve_diff_median  \\\n",
       "0                3.0                    2.0                  3.0   \n",
       "1                5.0                    4.0                  5.0   \n",
       "2                2.0                    2.0                  2.0   \n",
       "3                3.0                    2.0                  3.0   \n",
       "4                6.0                    5.0                  6.0   \n",
       "\n",
       "   reserve_visitors_median  reserve_diff_min  reserve_visitors_min  \\\n",
       "0                      2.0                 3                     2   \n",
       "1                      4.0                 5                     4   \n",
       "2                      2.0                 2                     2   \n",
       "3                      2.0                 3                     2   \n",
       "4                      5.0                 6                     5   \n",
       "\n",
       "   reserve_diff_max  reserve_visitors_max  reserve_diff_count  \\\n",
       "0                 3                     2                   1   \n",
       "1                 5                     4                   1   \n",
       "2                 2                     2                   1   \n",
       "3                 3                     2                   1   \n",
       "4                 6                     5                   1   \n",
       "\n",
       "   reserve_visitors_count  \n",
       "0                       1  \n",
       "1                       1  \n",
       "2                       1  \n",
       "3                       1  \n",
       "4                       1  "
      ]
     },
     "execution_count": 13,
     "metadata": {},
     "output_type": "execute_result"
    }
   ],
   "source": [
    "print('air_reserve_ext', len(data['air_reserve_ext']))\n",
    "data['air_reserve_ext'].head()"
   ]
  },
  {
   "cell_type": "markdown",
   "metadata": {},
   "source": [
    "Добавляем данные в `train` и `test` "
   ]
  },
  {
   "cell_type": "code",
   "execution_count": 14,
   "metadata": {},
   "outputs": [],
   "source": [
    "for ds in ['train', 'test']:\n",
    "    data[ds] = pd.merge(data[ds], data['air_reserve_ext'], how='left', on=['air_store_id', 'visit_date'])"
   ]
  }
 ],
 "metadata": {
  "kernelspec": {
   "display_name": "Python 3",
   "language": "python",
   "name": "python3"
  },
  "language_info": {
   "codemirror_mode": {
    "name": "ipython",
    "version": 3
   },
   "file_extension": ".py",
   "mimetype": "text/x-python",
   "name": "python",
   "nbconvert_exporter": "python",
   "pygments_lexer": "ipython3",
   "version": "3.6.4"
  }
 },
 "nbformat": 4,
 "nbformat_minor": 2
}
