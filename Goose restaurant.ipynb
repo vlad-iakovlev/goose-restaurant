{
 "cells": [
  {
   "cell_type": "markdown",
   "metadata": {},
   "source": [
    "# Restaurant Visitor Forecasting by GooseLearning"
   ]
  },
  {
   "cell_type": "code",
   "execution_count": 1,
   "metadata": {},
   "outputs": [],
   "source": [
    "import pandas as pd"
   ]
  },
  {
   "cell_type": "code",
   "execution_count": 2,
   "metadata": {},
   "outputs": [],
   "source": [
    "data = {\n",
    "    'air_store': pd.read_csv('dataset/air_store_info.csv'),\n",
    "    'hpg_store': pd.read_csv('dataset/hpg_store_info.csv'),\n",
    "\n",
    "    'air_reserve': pd.read_csv('dataset/air_reserve.csv'),\n",
    "    'hpg_reserve': pd.read_csv('dataset/hpg_reserve.csv'),\n",
    "\n",
    "    'air_hpd': pd.read_csv('dataset/store_id_relation.csv'),\n",
    "    \n",
    "    'date': pd.read_csv('dataset/date_info.csv').rename(columns={'calendar_date': 'visit_date'}),\n",
    "\n",
    "    'train': pd.read_csv('dataset/air_visit_data.csv'),\n",
    "    'test':  pd.read_csv('dataset/sample_submission.csv'),\n",
    "}"
   ]
  },
  {
   "cell_type": "markdown",
   "metadata": {},
   "source": [
    "### Обработка данных"
   ]
  },
  {
   "cell_type": "markdown",
   "metadata": {},
   "source": [
    "Приводим `test` к формату `train`"
   ]
  },
  {
   "cell_type": "code",
   "execution_count": 3,
   "metadata": {
    "scrolled": true
   },
   "outputs": [],
   "source": [
    "data['test']['air_store_id'] = [id[:20] for id in data['test']['id']]\n",
    "data['test']['visit_date']   = [id[21:] for id in data['test']['id']]"
   ]
  },
  {
   "cell_type": "markdown",
   "metadata": {},
   "source": [
    "Дополнительные колонки даты в `train` и `test`"
   ]
  },
  {
   "cell_type": "code",
   "execution_count": 4,
   "metadata": {},
   "outputs": [],
   "source": [
    "for ds in ['train', 'test']:\n",
    "    data[ds]['visit_date']  = pd.to_datetime(data[ds]['visit_date'])\n",
    "    data[ds]['visit_day']   = data[ds]['visit_date'].dt.day\n",
    "    data[ds]['visit_month'] = data[ds]['visit_date'].dt.month\n",
    "    data[ds]['visit_year']  = data[ds]['visit_date'].dt.year\n",
    "    data[ds]['visit_dow']   = data[ds]['visit_date'].dt.dayofweek"
   ]
  },
  {
   "cell_type": "code",
   "execution_count": 5,
   "metadata": {
    "scrolled": true
   },
   "outputs": [
    {
     "data": {
      "text/html": [
       "<div>\n",
       "<style>\n",
       "    .dataframe thead tr:only-child th {\n",
       "        text-align: right;\n",
       "    }\n",
       "\n",
       "    .dataframe thead th {\n",
       "        text-align: left;\n",
       "    }\n",
       "\n",
       "    .dataframe tbody tr th {\n",
       "        vertical-align: top;\n",
       "    }\n",
       "</style>\n",
       "<table border=\"1\" class=\"dataframe\">\n",
       "  <thead>\n",
       "    <tr style=\"text-align: right;\">\n",
       "      <th></th>\n",
       "      <th>air_store_id</th>\n",
       "      <th>visit_date</th>\n",
       "      <th>visitors</th>\n",
       "      <th>visit_day</th>\n",
       "      <th>visit_month</th>\n",
       "      <th>visit_year</th>\n",
       "      <th>visit_dow</th>\n",
       "    </tr>\n",
       "  </thead>\n",
       "  <tbody>\n",
       "    <tr>\n",
       "      <th>0</th>\n",
       "      <td>air_ba937bf13d40fb24</td>\n",
       "      <td>2016-01-13</td>\n",
       "      <td>25</td>\n",
       "      <td>13</td>\n",
       "      <td>1</td>\n",
       "      <td>2016</td>\n",
       "      <td>2</td>\n",
       "    </tr>\n",
       "    <tr>\n",
       "      <th>1</th>\n",
       "      <td>air_ba937bf13d40fb24</td>\n",
       "      <td>2016-01-14</td>\n",
       "      <td>32</td>\n",
       "      <td>14</td>\n",
       "      <td>1</td>\n",
       "      <td>2016</td>\n",
       "      <td>3</td>\n",
       "    </tr>\n",
       "    <tr>\n",
       "      <th>2</th>\n",
       "      <td>air_ba937bf13d40fb24</td>\n",
       "      <td>2016-01-15</td>\n",
       "      <td>29</td>\n",
       "      <td>15</td>\n",
       "      <td>1</td>\n",
       "      <td>2016</td>\n",
       "      <td>4</td>\n",
       "    </tr>\n",
       "    <tr>\n",
       "      <th>3</th>\n",
       "      <td>air_ba937bf13d40fb24</td>\n",
       "      <td>2016-01-16</td>\n",
       "      <td>22</td>\n",
       "      <td>16</td>\n",
       "      <td>1</td>\n",
       "      <td>2016</td>\n",
       "      <td>5</td>\n",
       "    </tr>\n",
       "    <tr>\n",
       "      <th>4</th>\n",
       "      <td>air_ba937bf13d40fb24</td>\n",
       "      <td>2016-01-18</td>\n",
       "      <td>6</td>\n",
       "      <td>18</td>\n",
       "      <td>1</td>\n",
       "      <td>2016</td>\n",
       "      <td>0</td>\n",
       "    </tr>\n",
       "  </tbody>\n",
       "</table>\n",
       "</div>"
      ],
      "text/plain": [
       "           air_store_id visit_date  visitors  visit_day  visit_month  \\\n",
       "0  air_ba937bf13d40fb24 2016-01-13        25         13            1   \n",
       "1  air_ba937bf13d40fb24 2016-01-14        32         14            1   \n",
       "2  air_ba937bf13d40fb24 2016-01-15        29         15            1   \n",
       "3  air_ba937bf13d40fb24 2016-01-16        22         16            1   \n",
       "4  air_ba937bf13d40fb24 2016-01-18         6         18            1   \n",
       "\n",
       "   visit_year  visit_dow  \n",
       "0        2016          2  \n",
       "1        2016          3  \n",
       "2        2016          4  \n",
       "3        2016          5  \n",
       "4        2016          0  "
      ]
     },
     "execution_count": 5,
     "metadata": {},
     "output_type": "execute_result"
    }
   ],
   "source": [
    "data['train'].head()"
   ]
  },
  {
   "cell_type": "markdown",
   "metadata": {},
   "source": [
    " Расширяем `air_reserve` данными из `hpg_reserve`"
   ]
  },
  {
   "cell_type": "code",
   "execution_count": 6,
   "metadata": {},
   "outputs": [],
   "source": [
    "data['hpg_reserve_air'] = pd.merge(data['hpg_reserve'], data['air_hpd'], how='inner', on=['hpg_store_id'])\n",
    "data['air_reserve_ext'] = pd.concat([data['air_reserve'], data['hpg_reserve_air'].drop('hpg_store_id', axis=1)])"
   ]
  },
  {
   "cell_type": "code",
   "execution_count": 7,
   "metadata": {},
   "outputs": [
    {
     "name": "stdout",
     "output_type": "stream",
     "text": [
      "air_reserve     92378\n",
      "air_reserve_ext 120561\n"
     ]
    }
   ],
   "source": [
    "print('air_reserve    ', len(data['air_reserve']))\n",
    "print('air_reserve_ext', len(data['air_reserve_ext']))"
   ]
  },
  {
   "cell_type": "markdown",
   "metadata": {},
   "source": [
    "Дополнительные колонки даты в `air_reserve_ext`"
   ]
  },
  {
   "cell_type": "code",
   "execution_count": 8,
   "metadata": {},
   "outputs": [],
   "source": [
    "for dt_type in ['visit', 'reserve']:\n",
    "    data['air_reserve_ext'][dt_type + '_datetime'] = pd.to_datetime(data['air_reserve_ext'][dt_type + '_datetime'])\n",
    "    data['air_reserve_ext'][dt_type + '_day']      = data['air_reserve_ext'][dt_type + '_datetime'].dt.day\n",
    "    data['air_reserve_ext'][dt_type + '_month']    = data['air_reserve_ext'][dt_type + '_datetime'].dt.month\n",
    "    data['air_reserve_ext'][dt_type + '_year']     = data['air_reserve_ext'][dt_type + '_datetime'].dt.year\n",
    "    data['air_reserve_ext'][dt_type + '_dow']      = data['air_reserve_ext'][dt_type + '_datetime'].dt.dayofweek\n",
    "    \n",
    "data['air_reserve_ext']['reserve_diff'] = data['air_reserve_ext']['visit_datetime'] - data['air_reserve_ext']['reserve_datetime']\n",
    "data['air_reserve_ext']['reserve_diff'] = data['air_reserve_ext'].apply(lambda row: row['reserve_diff'].days, axis=1)\n",
    "\n",
    "data['air_reserve_ext']['same_week'] = data['air_reserve_ext'].apply(lambda row: row['reserve_diff'] <= row['visit_dow'], axis=1)"
   ]
  }
 ],
 "metadata": {
  "kernelspec": {
   "display_name": "Python 3",
   "language": "python",
   "name": "python3"
  },
  "language_info": {
   "codemirror_mode": {
    "name": "ipython",
    "version": 3
   },
   "file_extension": ".py",
   "mimetype": "text/x-python",
   "name": "python",
   "nbconvert_exporter": "python",
   "pygments_lexer": "ipython3",
   "version": "3.6.4"
  }
 },
 "nbformat": 4,
 "nbformat_minor": 2
}
