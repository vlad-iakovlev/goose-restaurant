{
 "cells": [
  {
   "cell_type": "markdown",
   "metadata": {},
   "source": [
    "# Restaurant Visitor Forecasting by GooseLearning"
   ]
  },
  {
   "cell_type": "code",
   "execution_count": 1,
   "metadata": {},
   "outputs": [],
   "source": [
    "import pandas as pd\n",
    "import numpy as np"
   ]
  },
  {
   "cell_type": "code",
   "execution_count": 2,
   "metadata": {},
   "outputs": [],
   "source": [
    "air_reserve = pd.read_csv('dataset/air_reserve.csv')\n",
    "hpg_reserve = pd.read_csv('dataset/hpg_reserve.csv')\n",
    "air_store_info = pd.read_csv('dataset/air_store_info.csv')\n",
    "hpg_store_info = pd.read_csv('dataset/hpg_store_info.csv')\n",
    "store_id_relation = pd.read_csv('dataset/store_id_relation.csv')\n",
    "air_visit_data = pd.read_csv('dataset/air_visit_data.csv')\n",
    "sample_submission = pd.read_csv('dataset/sample_submission.csv')\n",
    "date_info = pd.read_csv('dataset/date_info.csv')"
   ]
  },
  {
   "cell_type": "markdown",
   "metadata": {},
   "source": [
    "### Обработка `sample_submission`"
   ]
  },
  {
   "cell_type": "code",
   "execution_count": 3,
   "metadata": {
    "scrolled": true
   },
   "outputs": [],
   "source": [
    "# Приводим sample_submission к формату air_visit_data\n",
    "sample_submission = sample_submission.assign(\n",
    "    air_store_id = [id[:20] for id in sample_submission['id']],\n",
    "    visit_date   = [id[21:] for id in sample_submission['id']],\n",
    ")[['air_store_id', 'visit_date', 'visitors']]"
   ]
  },
  {
   "cell_type": "code",
   "execution_count": 4,
   "metadata": {},
   "outputs": [
    {
     "data": {
      "text/html": [
       "<div>\n",
       "<style>\n",
       "    .dataframe thead tr:only-child th {\n",
       "        text-align: right;\n",
       "    }\n",
       "\n",
       "    .dataframe thead th {\n",
       "        text-align: left;\n",
       "    }\n",
       "\n",
       "    .dataframe tbody tr th {\n",
       "        vertical-align: top;\n",
       "    }\n",
       "</style>\n",
       "<table border=\"1\" class=\"dataframe\">\n",
       "  <thead>\n",
       "    <tr style=\"text-align: right;\">\n",
       "      <th></th>\n",
       "      <th>air_store_id</th>\n",
       "      <th>visit_date</th>\n",
       "      <th>visitors</th>\n",
       "    </tr>\n",
       "  </thead>\n",
       "  <tbody>\n",
       "    <tr>\n",
       "      <th>0</th>\n",
       "      <td>air_00a91d42b08b08d9</td>\n",
       "      <td>2017-04-23</td>\n",
       "      <td>0</td>\n",
       "    </tr>\n",
       "    <tr>\n",
       "      <th>1</th>\n",
       "      <td>air_00a91d42b08b08d9</td>\n",
       "      <td>2017-04-24</td>\n",
       "      <td>0</td>\n",
       "    </tr>\n",
       "    <tr>\n",
       "      <th>2</th>\n",
       "      <td>air_00a91d42b08b08d9</td>\n",
       "      <td>2017-04-25</td>\n",
       "      <td>0</td>\n",
       "    </tr>\n",
       "    <tr>\n",
       "      <th>3</th>\n",
       "      <td>air_00a91d42b08b08d9</td>\n",
       "      <td>2017-04-26</td>\n",
       "      <td>0</td>\n",
       "    </tr>\n",
       "    <tr>\n",
       "      <th>4</th>\n",
       "      <td>air_00a91d42b08b08d9</td>\n",
       "      <td>2017-04-27</td>\n",
       "      <td>0</td>\n",
       "    </tr>\n",
       "  </tbody>\n",
       "</table>\n",
       "</div>"
      ],
      "text/plain": [
       "           air_store_id  visit_date  visitors\n",
       "0  air_00a91d42b08b08d9  2017-04-23         0\n",
       "1  air_00a91d42b08b08d9  2017-04-24         0\n",
       "2  air_00a91d42b08b08d9  2017-04-25         0\n",
       "3  air_00a91d42b08b08d9  2017-04-26         0\n",
       "4  air_00a91d42b08b08d9  2017-04-27         0"
      ]
     },
     "execution_count": 4,
     "metadata": {},
     "output_type": "execute_result"
    }
   ],
   "source": [
    "sample_submission.head()"
   ]
  },
  {
   "cell_type": "code",
   "execution_count": 5,
   "metadata": {},
   "outputs": [
    {
     "data": {
      "text/plain": [
       "821"
      ]
     },
     "execution_count": 5,
     "metadata": {},
     "output_type": "execute_result"
    }
   ],
   "source": [
    "sample_submission['air_store_id'].nunique()"
   ]
  },
  {
   "cell_type": "code",
   "execution_count": 6,
   "metadata": {},
   "outputs": [
    {
     "data": {
      "text/plain": [
       "39"
      ]
     },
     "execution_count": 6,
     "metadata": {},
     "output_type": "execute_result"
    }
   ],
   "source": [
    "sample_submission['visit_date'].nunique()"
   ]
  },
  {
   "cell_type": "code",
   "execution_count": 7,
   "metadata": {},
   "outputs": [
    {
     "data": {
      "text/plain": [
       "True"
      ]
     },
     "execution_count": 7,
     "metadata": {},
     "output_type": "execute_result"
    }
   ],
   "source": [
    "len(sample_submission.index) == 821 * 39"
   ]
  },
  {
   "cell_type": "code",
   "execution_count": 8,
   "metadata": {},
   "outputs": [
    {
     "data": {
      "text/plain": [
       "829"
      ]
     },
     "execution_count": 8,
     "metadata": {},
     "output_type": "execute_result"
    }
   ],
   "source": [
    "air_store_info['air_store_id'].nunique()"
   ]
  },
  {
   "cell_type": "code",
   "execution_count": 9,
   "metadata": {},
   "outputs": [
    {
     "data": {
      "text/plain": [
       "829"
      ]
     },
     "execution_count": 9,
     "metadata": {},
     "output_type": "execute_result"
    }
   ],
   "source": [
    "air_visit_data['air_store_id'].nunique()"
   ]
  },
  {
   "cell_type": "markdown",
   "metadata": {},
   "source": [
    "### Объединение датасета"
   ]
  },
  {
   "cell_type": "code",
   "execution_count": 10,
   "metadata": {},
   "outputs": [],
   "source": [
    "# Получаем идентификаторы ресторанов в различных системах\n",
    "air_store_ids = air_store_info[['air_store_id']]\n",
    "hpg_store_ids = hpg_store_info[['hpg_store_id']]\n",
    "\n",
    "# Строим \n",
    "goose_relation_air_hpg = \\\n",
    "    air_store_ids \\\n",
    "        .set_index('air_store_id') \\\n",
    "        .join(store_id_relation.set_index('air_store_id')) \\\n",
    "        .reset_index() \\\n",
    "        [['air_store_id', 'hpg_store_id']]\n",
    "        \n",
    "goose_relation_hpg_air = \\\n",
    "    hpg_store_ids \\\n",
    "        .set_index('hpg_store_id') \\\n",
    "        .join(store_id_relation.set_index('hpg_store_id')) \\\n",
    "        .reset_index() \\\n",
    "        [['air_store_id', 'hpg_store_id']]\n",
    "        \n",
    "goose_relation = goose_relation_air_hpg.merge(goose_relation_hpg_air, how='outer')"
   ]
  },
  {
   "cell_type": "code",
   "execution_count": null,
   "metadata": {},
   "outputs": [],
   "source": []
  },
  {
   "cell_type": "code",
   "execution_count": 11,
   "metadata": {},
   "outputs": [
    {
     "name": "stdout",
     "output_type": "stream",
     "text": [
      "relations      150\n",
      "air_to_hpg     150\n",
      "hpg_to_air     63\n",
      "goose_relation 5456\n",
      "all_ids        5519\n"
     ]
    }
   ],
   "source": [
    "print('relations     ', len(store_id_relation))\n",
    "print('air_to_hpg    ', len(goose_relation_air_hpg.dropna()))\n",
    "print('hpg_to_air    ', len(goose_relation_hpg_air.dropna()))\n",
    "print('goose_relation', len(goose_relation))\n",
    "print('all_ids       ', len(air_store_ids) + len(hpg_store_ids))"
   ]
  },
  {
   "cell_type": "code",
   "execution_count": 12,
   "metadata": {},
   "outputs": [
    {
     "data": {
      "text/html": [
       "<div>\n",
       "<style>\n",
       "    .dataframe thead tr:only-child th {\n",
       "        text-align: right;\n",
       "    }\n",
       "\n",
       "    .dataframe thead th {\n",
       "        text-align: left;\n",
       "    }\n",
       "\n",
       "    .dataframe tbody tr th {\n",
       "        vertical-align: top;\n",
       "    }\n",
       "</style>\n",
       "<table border=\"1\" class=\"dataframe\">\n",
       "  <thead>\n",
       "    <tr style=\"text-align: right;\">\n",
       "      <th></th>\n",
       "      <th>air_store_id</th>\n",
       "      <th>air_genre_name</th>\n",
       "      <th>air_area_name</th>\n",
       "      <th>latitude</th>\n",
       "      <th>longitude</th>\n",
       "    </tr>\n",
       "  </thead>\n",
       "  <tbody>\n",
       "    <tr>\n",
       "      <th>0</th>\n",
       "      <td>air_0f0cdeee6c9bf3d7</td>\n",
       "      <td>Italian/French</td>\n",
       "      <td>Hyōgo-ken Kōbe-shi Kumoidōri</td>\n",
       "      <td>34.695124</td>\n",
       "      <td>135.197852</td>\n",
       "    </tr>\n",
       "    <tr>\n",
       "      <th>1</th>\n",
       "      <td>air_7cc17a324ae5c7dc</td>\n",
       "      <td>Italian/French</td>\n",
       "      <td>Hyōgo-ken Kōbe-shi Kumoidōri</td>\n",
       "      <td>34.695124</td>\n",
       "      <td>135.197852</td>\n",
       "    </tr>\n",
       "    <tr>\n",
       "      <th>2</th>\n",
       "      <td>air_fee8dcf4d619598e</td>\n",
       "      <td>Italian/French</td>\n",
       "      <td>Hyōgo-ken Kōbe-shi Kumoidōri</td>\n",
       "      <td>34.695124</td>\n",
       "      <td>135.197852</td>\n",
       "    </tr>\n",
       "    <tr>\n",
       "      <th>3</th>\n",
       "      <td>air_a17f0778617c76e2</td>\n",
       "      <td>Italian/French</td>\n",
       "      <td>Hyōgo-ken Kōbe-shi Kumoidōri</td>\n",
       "      <td>34.695124</td>\n",
       "      <td>135.197852</td>\n",
       "    </tr>\n",
       "    <tr>\n",
       "      <th>4</th>\n",
       "      <td>air_83db5aff8f50478e</td>\n",
       "      <td>Italian/French</td>\n",
       "      <td>Tōkyō-to Minato-ku Shibakōen</td>\n",
       "      <td>35.658068</td>\n",
       "      <td>139.751599</td>\n",
       "    </tr>\n",
       "  </tbody>\n",
       "</table>\n",
       "</div>"
      ],
      "text/plain": [
       "           air_store_id  air_genre_name                 air_area_name  \\\n",
       "0  air_0f0cdeee6c9bf3d7  Italian/French  Hyōgo-ken Kōbe-shi Kumoidōri   \n",
       "1  air_7cc17a324ae5c7dc  Italian/French  Hyōgo-ken Kōbe-shi Kumoidōri   \n",
       "2  air_fee8dcf4d619598e  Italian/French  Hyōgo-ken Kōbe-shi Kumoidōri   \n",
       "3  air_a17f0778617c76e2  Italian/French  Hyōgo-ken Kōbe-shi Kumoidōri   \n",
       "4  air_83db5aff8f50478e  Italian/French  Tōkyō-to Minato-ku Shibakōen   \n",
       "\n",
       "    latitude   longitude  \n",
       "0  34.695124  135.197852  \n",
       "1  34.695124  135.197852  \n",
       "2  34.695124  135.197852  \n",
       "3  34.695124  135.197852  \n",
       "4  35.658068  139.751599  "
      ]
     },
     "execution_count": 12,
     "metadata": {},
     "output_type": "execute_result"
    }
   ],
   "source": [
    "air_store_info.head()"
   ]
  },
  {
   "cell_type": "code",
   "execution_count": 13,
   "metadata": {},
   "outputs": [],
   "source": [
    "air_store_info_indexed = air_store_info.set_index('air_store_id')\n",
    "hpg_store_info_indexed = hpg_store_info.set_index('hpg_store_id')\n",
    "\n",
    "goose_store_info = goose_relation.copy()\n",
    "for index, row in goose_store_info.iterrows():\n",
    "    if row['air_store_id'] in air_store_info_indexed.index:\n",
    "        goose_store_info.loc[index, 'air_genre_name'] = air_store_info_indexed.loc[row['air_store_id'], 'air_genre_name']\n",
    "        goose_store_info.loc[index, 'air_area_name']  = air_store_info_indexed.loc[row['air_store_id'], 'air_area_name']\n",
    "        goose_store_info.loc[index, 'air_latitude']   = air_store_info_indexed.loc[row['air_store_id'], 'latitude']\n",
    "        goose_store_info.loc[index, 'air_longitude']  = air_store_info_indexed.loc[row['air_store_id'], 'longitude']\n",
    "    if row['hpg_store_id'] in hpg_store_info_indexed.index:\n",
    "        goose_store_info.loc[index, 'hpg_genre_name'] = hpg_store_info_indexed.loc[row['hpg_store_id'], 'hpg_genre_name']\n",
    "        goose_store_info.loc[index, 'hpg_area_name']  = hpg_store_info_indexed.loc[row['hpg_store_id'], 'hpg_area_name']\n",
    "        goose_store_info.loc[index, 'hpg_latitude']   = hpg_store_info_indexed.loc[row['hpg_store_id'], 'latitude']\n",
    "        goose_store_info.loc[index, 'hpg_longitude']  = hpg_store_info_indexed.loc[row['hpg_store_id'], 'longitude']\n",
    "        "
   ]
  },
  {
   "cell_type": "code",
   "execution_count": 14,
   "metadata": {},
   "outputs": [
    {
     "data": {
      "text/html": [
       "<div>\n",
       "<style>\n",
       "    .dataframe thead tr:only-child th {\n",
       "        text-align: right;\n",
       "    }\n",
       "\n",
       "    .dataframe thead th {\n",
       "        text-align: left;\n",
       "    }\n",
       "\n",
       "    .dataframe tbody tr th {\n",
       "        vertical-align: top;\n",
       "    }\n",
       "</style>\n",
       "<table border=\"1\" class=\"dataframe\">\n",
       "  <thead>\n",
       "    <tr style=\"text-align: right;\">\n",
       "      <th></th>\n",
       "      <th>air_store_id</th>\n",
       "      <th>hpg_store_id</th>\n",
       "      <th>air_genre_name</th>\n",
       "      <th>air_area_name</th>\n",
       "      <th>air_latitude</th>\n",
       "      <th>air_longitude</th>\n",
       "      <th>hpg_genre_name</th>\n",
       "      <th>hpg_area_name</th>\n",
       "      <th>hpg_latitude</th>\n",
       "      <th>hpg_longitude</th>\n",
       "    </tr>\n",
       "  </thead>\n",
       "  <tbody>\n",
       "    <tr>\n",
       "      <th>22</th>\n",
       "      <td>air_638c35eb25e53eea</td>\n",
       "      <td>hpg_f07ec7b288165b27</td>\n",
       "      <td>Italian/French</td>\n",
       "      <td>Fukuoka-ken Fukuoka-shi Daimyō</td>\n",
       "      <td>33.589216</td>\n",
       "      <td>130.392813</td>\n",
       "      <td>Spain Bar/Italian Bar</td>\n",
       "      <td>Fukuoka-ken Fukuoka-shi Daimyō</td>\n",
       "      <td>33.586969</td>\n",
       "      <td>130.392801</td>\n",
       "    </tr>\n",
       "    <tr>\n",
       "      <th>32</th>\n",
       "      <td>air_fcfbdcf7b1f82c6e</td>\n",
       "      <td>hpg_0b53e00789c2eafe</td>\n",
       "      <td>Italian/French</td>\n",
       "      <td>Tōkyō-to Shibuya-ku Shibuya</td>\n",
       "      <td>35.661777</td>\n",
       "      <td>139.704051</td>\n",
       "      <td>Italian</td>\n",
       "      <td>Tōkyō-to Shibuya-ku None</td>\n",
       "      <td>35.659214</td>\n",
       "      <td>139.699736</td>\n",
       "    </tr>\n",
       "    <tr>\n",
       "      <th>33</th>\n",
       "      <td>air_f8233ad00755c35c</td>\n",
       "      <td>hpg_098e4dd30e54fee6</td>\n",
       "      <td>Italian/French</td>\n",
       "      <td>Tōkyō-to Shibuya-ku Shibuya</td>\n",
       "      <td>35.661777</td>\n",
       "      <td>139.704051</td>\n",
       "      <td>Spain Bar/Italian Bar</td>\n",
       "      <td>Tōkyō-to Shibuya-ku None</td>\n",
       "      <td>35.659214</td>\n",
       "      <td>139.699736</td>\n",
       "    </tr>\n",
       "    <tr>\n",
       "      <th>53</th>\n",
       "      <td>air_082908692355165e</td>\n",
       "      <td>hpg_b8715d0ac52b1763</td>\n",
       "      <td>Italian/French</td>\n",
       "      <td>Tōkyō-to Shinjuku-ku Kabukichō</td>\n",
       "      <td>35.693840</td>\n",
       "      <td>139.703549</td>\n",
       "      <td>Spain Bar/Italian Bar</td>\n",
       "      <td>Tōkyō-to Shinjuku-ku None</td>\n",
       "      <td>35.691384</td>\n",
       "      <td>139.701256</td>\n",
       "    </tr>\n",
       "    <tr>\n",
       "      <th>63</th>\n",
       "      <td>air_48f4da6223571da4</td>\n",
       "      <td>hpg_832ba309e6699258</td>\n",
       "      <td>Italian/French</td>\n",
       "      <td>Tōkyō-to Tachikawa-shi Izumichō</td>\n",
       "      <td>35.714014</td>\n",
       "      <td>139.407843</td>\n",
       "      <td>Italian</td>\n",
       "      <td>Tōkyō-to Hachiōji-shi Ishikawamachi</td>\n",
       "      <td>35.677207</td>\n",
       "      <td>139.373870</td>\n",
       "    </tr>\n",
       "  </tbody>\n",
       "</table>\n",
       "</div>"
      ],
      "text/plain": [
       "            air_store_id          hpg_store_id  air_genre_name  \\\n",
       "22  air_638c35eb25e53eea  hpg_f07ec7b288165b27  Italian/French   \n",
       "32  air_fcfbdcf7b1f82c6e  hpg_0b53e00789c2eafe  Italian/French   \n",
       "33  air_f8233ad00755c35c  hpg_098e4dd30e54fee6  Italian/French   \n",
       "53  air_082908692355165e  hpg_b8715d0ac52b1763  Italian/French   \n",
       "63  air_48f4da6223571da4  hpg_832ba309e6699258  Italian/French   \n",
       "\n",
       "                      air_area_name  air_latitude  air_longitude  \\\n",
       "22   Fukuoka-ken Fukuoka-shi Daimyō     33.589216     130.392813   \n",
       "32      Tōkyō-to Shibuya-ku Shibuya     35.661777     139.704051   \n",
       "33      Tōkyō-to Shibuya-ku Shibuya     35.661777     139.704051   \n",
       "53   Tōkyō-to Shinjuku-ku Kabukichō     35.693840     139.703549   \n",
       "63  Tōkyō-to Tachikawa-shi Izumichō     35.714014     139.407843   \n",
       "\n",
       "           hpg_genre_name                        hpg_area_name  hpg_latitude  \\\n",
       "22  Spain Bar/Italian Bar       Fukuoka-ken Fukuoka-shi Daimyō     33.586969   \n",
       "32                Italian             Tōkyō-to Shibuya-ku None     35.659214   \n",
       "33  Spain Bar/Italian Bar             Tōkyō-to Shibuya-ku None     35.659214   \n",
       "53  Spain Bar/Italian Bar            Tōkyō-to Shinjuku-ku None     35.691384   \n",
       "63                Italian  Tōkyō-to Hachiōji-shi Ishikawamachi     35.677207   \n",
       "\n",
       "    hpg_longitude  \n",
       "22     130.392801  \n",
       "32     139.699736  \n",
       "33     139.699736  \n",
       "53     139.701256  \n",
       "63     139.373870  "
      ]
     },
     "execution_count": 14,
     "metadata": {},
     "output_type": "execute_result"
    }
   ],
   "source": [
    "goose_store_info.dropna().head()"
   ]
  }
 ],
 "metadata": {
  "kernelspec": {
   "display_name": "Python 3",
   "language": "python",
   "name": "python3"
  },
  "language_info": {
   "codemirror_mode": {
    "name": "ipython",
    "version": 3
   },
   "file_extension": ".py",
   "mimetype": "text/x-python",
   "name": "python",
   "nbconvert_exporter": "python",
   "pygments_lexer": "ipython3",
   "version": "3.6.4"
  }
 },
 "nbformat": 4,
 "nbformat_minor": 2
}
