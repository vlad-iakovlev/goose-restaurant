{
 "cells": [
  {
   "cell_type": "markdown",
   "metadata": {},
   "source": [
    "# Обработка дат"
   ]
  },
  {
   "cell_type": "code",
   "execution_count": 1,
   "metadata": {},
   "outputs": [],
   "source": [
    "import pandas as pd\n",
    "import numpy as np"
   ]
  },
  {
   "cell_type": "code",
   "execution_count": 2,
   "metadata": {},
   "outputs": [],
   "source": [
    "data = {\n",
    "    'dates': pd.read_csv('dataset/date_info.csv').rename(columns={\n",
    "        'calendar_date': 'visit_date',\n",
    "        'holiday_flg'  : 'visit_holiday',\n",
    "    })[['visit_date', 'visit_holiday']],\n",
    "}"
   ]
  },
  {
   "cell_type": "markdown",
   "metadata": {},
   "source": [
    "### Обрабатываем `dates`"
   ]
  },
  {
   "cell_type": "code",
   "execution_count": 3,
   "metadata": {},
   "outputs": [],
   "source": [
    "holydays = np.array([1, 2, 1, 1, 1, 3, 4])\n",
    "\n",
    "data['dates']['visit_date']     = pd.to_datetime(data['dates']['visit_date'])\n",
    "data['dates']['visit_day']      = data['dates']['visit_date'].dt.day\n",
    "data['dates']['visit_month']    = data['dates']['visit_date'].dt.month\n",
    "data['dates']['visit_year']     = data['dates']['visit_date'].dt.year\n",
    "data['dates']['visit_dow']      = data['dates']['visit_date'].dt.dayofweek\n",
    "data['dates']['visit_work']     = data['dates']['visit_dow'] < 5\n",
    "data['dates']['visit_weekend']  = data['dates']['visit_work'] == False\n",
    "data['dates']['visit_date_int'] = data['dates']['visit_date'].dt.strftime('%Y%m%d').astype(int)\n",
    "data['dates']['visit_holiday']  = data['dates'].apply(lambda row: holydays[row['visit_dow']] if row['visit_holiday'] else 0, axis=1)\n",
    "data['dates']['visit_date']     = data['dates']['visit_date'].dt.strftime('%Y-%m-%d')"
   ]
  },
  {
   "cell_type": "code",
   "execution_count": 4,
   "metadata": {
    "scrolled": true
   },
   "outputs": [
    {
     "name": "stdout",
     "output_type": "stream",
     "text": [
      "dates (517, 9)\n"
     ]
    },
    {
     "data": {
      "text/html": [
       "<div>\n",
       "<table border=\"1\" class=\"dataframe\">\n",
       "  <thead>\n",
       "    <tr style=\"text-align: right;\">\n",
       "      <th></th>\n",
       "      <th>visit_date</th>\n",
       "      <th>visit_holiday</th>\n",
       "      <th>visit_day</th>\n",
       "      <th>visit_month</th>\n",
       "      <th>visit_year</th>\n",
       "      <th>visit_dow</th>\n",
       "      <th>visit_work</th>\n",
       "      <th>visit_weekend</th>\n",
       "      <th>visit_date_int</th>\n",
       "    </tr>\n",
       "  </thead>\n",
       "  <tbody>\n",
       "    <tr>\n",
       "      <th>0</th>\n",
       "      <td>2016-01-01</td>\n",
       "      <td>1</td>\n",
       "      <td>1</td>\n",
       "      <td>1</td>\n",
       "      <td>2016</td>\n",
       "      <td>4</td>\n",
       "      <td>True</td>\n",
       "      <td>False</td>\n",
       "      <td>20160101</td>\n",
       "    </tr>\n",
       "    <tr>\n",
       "      <th>1</th>\n",
       "      <td>2016-01-02</td>\n",
       "      <td>3</td>\n",
       "      <td>2</td>\n",
       "      <td>1</td>\n",
       "      <td>2016</td>\n",
       "      <td>5</td>\n",
       "      <td>False</td>\n",
       "      <td>True</td>\n",
       "      <td>20160102</td>\n",
       "    </tr>\n",
       "    <tr>\n",
       "      <th>2</th>\n",
       "      <td>2016-01-03</td>\n",
       "      <td>4</td>\n",
       "      <td>3</td>\n",
       "      <td>1</td>\n",
       "      <td>2016</td>\n",
       "      <td>6</td>\n",
       "      <td>False</td>\n",
       "      <td>True</td>\n",
       "      <td>20160103</td>\n",
       "    </tr>\n",
       "    <tr>\n",
       "      <th>3</th>\n",
       "      <td>2016-01-04</td>\n",
       "      <td>0</td>\n",
       "      <td>4</td>\n",
       "      <td>1</td>\n",
       "      <td>2016</td>\n",
       "      <td>0</td>\n",
       "      <td>True</td>\n",
       "      <td>False</td>\n",
       "      <td>20160104</td>\n",
       "    </tr>\n",
       "    <tr>\n",
       "      <th>4</th>\n",
       "      <td>2016-01-05</td>\n",
       "      <td>0</td>\n",
       "      <td>5</td>\n",
       "      <td>1</td>\n",
       "      <td>2016</td>\n",
       "      <td>1</td>\n",
       "      <td>True</td>\n",
       "      <td>False</td>\n",
       "      <td>20160105</td>\n",
       "    </tr>\n",
       "  </tbody>\n",
       "</table>\n",
       "</div>"
      ],
      "text/plain": [
       "   visit_date  visit_holiday  visit_day  visit_month  visit_year  visit_dow  \\\n",
       "0  2016-01-01              1          1            1        2016          4   \n",
       "1  2016-01-02              3          2            1        2016          5   \n",
       "2  2016-01-03              4          3            1        2016          6   \n",
       "3  2016-01-04              0          4            1        2016          0   \n",
       "4  2016-01-05              0          5            1        2016          1   \n",
       "\n",
       "  visit_work visit_weekend  visit_date_int  \n",
       "0       True         False        20160101  \n",
       "1      False          True        20160102  \n",
       "2      False          True        20160103  \n",
       "3       True         False        20160104  \n",
       "4       True         False        20160105  "
      ]
     },
     "execution_count": 4,
     "metadata": {},
     "output_type": "execute_result"
    }
   ],
   "source": [
    "print('dates', data['dates'].shape)\n",
    "\n",
    "data['dates'].head()"
   ]
  },
  {
   "cell_type": "code",
   "execution_count": 5,
   "metadata": {},
   "outputs": [],
   "source": [
    "data['dates'].to_csv('result/dates.csv', index=False)"
   ]
  },
  {
   "cell_type": "code",
   "execution_count": null,
   "metadata": {},
   "outputs": [],
   "source": []
  }
 ],
 "metadata": {
  "kernelspec": {
   "display_name": "Python 3",
   "language": "python",
   "name": "python3"
  },
  "language_info": {
   "codemirror_mode": {
    "name": "ipython",
    "version": 3
   },
   "file_extension": ".py",
   "mimetype": "text/x-python",
   "name": "python",
   "nbconvert_exporter": "python",
   "pygments_lexer": "ipython3",
   "version": "3.6.3"
  }
 },
 "nbformat": 4,
 "nbformat_minor": 2
}
