{
 "cells": [
  {
   "cell_type": "markdown",
   "metadata": {},
   "source": [
    "# Данные по ресторанам"
   ]
  },
  {
   "cell_type": "code",
   "execution_count": 1,
   "metadata": {},
   "outputs": [],
   "source": [
    "import pandas as pd\n",
    "import numpy as np\n",
    "from math import sqrt"
   ]
  },
  {
   "cell_type": "code",
   "execution_count": 2,
   "metadata": {},
   "outputs": [],
   "source": [
    "data = {\n",
    "    'air_stores': pd.read_csv('dataset/air_store_info.csv'),\n",
    "    \n",
    "    'cities': pd.read_csv('dataset/cities.csv'),\n",
    "}"
   ]
  },
  {
   "cell_type": "markdown",
   "metadata": {},
   "source": [
    "## Обработка ресторанов"
   ]
  },
  {
   "cell_type": "code",
   "execution_count": 3,
   "metadata": {},
   "outputs": [],
   "source": [
    "stores_id = data['air_stores']['air_store_id']\n",
    "data['stores'] = pd.concat(\n",
    "    [pd.DataFrame({\n",
    "        'air_store_id': stores_id,\n",
    "        'visit_dow':    [i] * len(stores_id)\n",
    "    }) for i in range(7)],\n",
    "    axis=0,\n",
    "    ignore_index=True,\n",
    ").reset_index(drop=True)"
   ]
  },
  {
   "cell_type": "code",
   "execution_count": 4,
   "metadata": {},
   "outputs": [],
   "source": [
    "data['stores'] = pd.merge(data['stores'], data['air_stores'], how='left', on=['air_store_id'])"
   ]
  },
  {
   "cell_type": "code",
   "execution_count": 5,
   "metadata": {},
   "outputs": [],
   "source": [
    "data['stores']['air_genre_name'] = data['stores']['air_genre_name']\n",
    "data['stores']['air_area_name']  = data['stores']['air_area_name']"
   ]
  },
  {
   "cell_type": "markdown",
   "metadata": {},
   "source": [
    "Добавляем информацию по городам"
   ]
  },
  {
   "cell_type": "code",
   "execution_count": 6,
   "metadata": {},
   "outputs": [],
   "source": [
    "def distance(a, b):\n",
    "    return sqrt((a['latitude'] - b['latitude']) ** 2 + (a['longitude'] - b['longitude']) ** 2)\n",
    "\n",
    "for index, city in data['cities'].iterrows():\n",
    "    data['stores'][city['name']] = data['stores'].apply(lambda row: distance(city, row), axis=1)\n",
    "    \n",
    "data['stores']['city'] = data['stores'][data['cities']['name']].idxmin(axis=1)\n",
    "\n",
    "data['stores'] = data['stores'].drop(data['cities']['name'], axis=1)"
   ]
  },
  {
   "cell_type": "code",
   "execution_count": 7,
   "metadata": {},
   "outputs": [
    {
     "name": "stdout",
     "output_type": "stream",
     "text": [
      "stores (5803, 7)\n"
     ]
    },
    {
     "data": {
      "text/html": [
       "<div>\n",
       "<table border=\"1\" class=\"dataframe\">\n",
       "  <thead>\n",
       "    <tr style=\"text-align: right;\">\n",
       "      <th></th>\n",
       "      <th>air_store_id</th>\n",
       "      <th>visit_dow</th>\n",
       "      <th>air_genre_name</th>\n",
       "      <th>air_area_name</th>\n",
       "      <th>latitude</th>\n",
       "      <th>longitude</th>\n",
       "      <th>city</th>\n",
       "    </tr>\n",
       "  </thead>\n",
       "  <tbody>\n",
       "    <tr>\n",
       "      <th>0</th>\n",
       "      <td>air_0f0cdeee6c9bf3d7</td>\n",
       "      <td>0</td>\n",
       "      <td>Italian/French</td>\n",
       "      <td>Hyōgo-ken Kōbe-shi Kumoidōri</td>\n",
       "      <td>34.695124</td>\n",
       "      <td>135.197852</td>\n",
       "      <td>Tokyo</td>\n",
       "    </tr>\n",
       "    <tr>\n",
       "      <th>1</th>\n",
       "      <td>air_7cc17a324ae5c7dc</td>\n",
       "      <td>0</td>\n",
       "      <td>Italian/French</td>\n",
       "      <td>Hyōgo-ken Kōbe-shi Kumoidōri</td>\n",
       "      <td>34.695124</td>\n",
       "      <td>135.197852</td>\n",
       "      <td>Tokyo</td>\n",
       "    </tr>\n",
       "    <tr>\n",
       "      <th>2</th>\n",
       "      <td>air_fee8dcf4d619598e</td>\n",
       "      <td>0</td>\n",
       "      <td>Italian/French</td>\n",
       "      <td>Hyōgo-ken Kōbe-shi Kumoidōri</td>\n",
       "      <td>34.695124</td>\n",
       "      <td>135.197852</td>\n",
       "      <td>Tokyo</td>\n",
       "    </tr>\n",
       "    <tr>\n",
       "      <th>3</th>\n",
       "      <td>air_a17f0778617c76e2</td>\n",
       "      <td>0</td>\n",
       "      <td>Italian/French</td>\n",
       "      <td>Hyōgo-ken Kōbe-shi Kumoidōri</td>\n",
       "      <td>34.695124</td>\n",
       "      <td>135.197852</td>\n",
       "      <td>Tokyo</td>\n",
       "    </tr>\n",
       "    <tr>\n",
       "      <th>4</th>\n",
       "      <td>air_83db5aff8f50478e</td>\n",
       "      <td>0</td>\n",
       "      <td>Italian/French</td>\n",
       "      <td>Tōkyō-to Minato-ku Shibakōen</td>\n",
       "      <td>35.658068</td>\n",
       "      <td>139.751599</td>\n",
       "      <td>Tokyo</td>\n",
       "    </tr>\n",
       "  </tbody>\n",
       "</table>\n",
       "</div>"
      ],
      "text/plain": [
       "           air_store_id  visit_dow  air_genre_name  \\\n",
       "0  air_0f0cdeee6c9bf3d7          0  Italian/French   \n",
       "1  air_7cc17a324ae5c7dc          0  Italian/French   \n",
       "2  air_fee8dcf4d619598e          0  Italian/French   \n",
       "3  air_a17f0778617c76e2          0  Italian/French   \n",
       "4  air_83db5aff8f50478e          0  Italian/French   \n",
       "\n",
       "                  air_area_name   latitude   longitude   city  \n",
       "0  Hyōgo-ken Kōbe-shi Kumoidōri  34.695124  135.197852  Tokyo  \n",
       "1  Hyōgo-ken Kōbe-shi Kumoidōri  34.695124  135.197852  Tokyo  \n",
       "2  Hyōgo-ken Kōbe-shi Kumoidōri  34.695124  135.197852  Tokyo  \n",
       "3  Hyōgo-ken Kōbe-shi Kumoidōri  34.695124  135.197852  Tokyo  \n",
       "4  Tōkyō-to Minato-ku Shibakōen  35.658068  139.751599  Tokyo  "
      ]
     },
     "execution_count": 7,
     "metadata": {},
     "output_type": "execute_result"
    }
   ],
   "source": [
    "print('stores', data['stores'].shape)\n",
    "\n",
    "data['stores'].head()"
   ]
  },
  {
   "cell_type": "code",
   "execution_count": 8,
   "metadata": {},
   "outputs": [],
   "source": [
    "data['stores'].to_csv('result/stores.csv', index=False)"
   ]
  }
 ],
 "metadata": {
  "kernelspec": {
   "display_name": "Python 3",
   "language": "python",
   "name": "python3"
  },
  "language_info": {
   "codemirror_mode": {
    "name": "ipython",
    "version": 3
   },
   "file_extension": ".py",
   "mimetype": "text/x-python",
   "name": "python",
   "nbconvert_exporter": "python",
   "pygments_lexer": "ipython3",
   "version": "3.6.3"
  }
 },
 "nbformat": 4,
 "nbformat_minor": 2
}
